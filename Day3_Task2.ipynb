{
 "cells": [
  {
   "cell_type": "markdown",
   "id": "daf643d8",
   "metadata": {},
   "source": [
    "<H1> DAY 3 - TASK 2 </H1>"
   ]
  },
  {
   "cell_type": "markdown",
   "id": "a9e61414",
   "metadata": {},
   "source": [
    "Write a program which takes name, date of birth and experience as user input. \n",
    "Try to calculate the age using date of birth. While calculating the age add exception handling such that if it is invalid it returns an error about the type. \n",
    "\n",
    "Hint : Use datetime object in python for date of birth (https://docs.python.org/3/library/datetime.html)"
   ]
  },
  {
   "cell_type": "code",
   "execution_count": 3,
   "id": "f4f66c98",
   "metadata": {},
   "outputs": [
    {
     "name": "stdout",
     "output_type": "stream",
     "text": [
      "Enter your name: Shriya\n",
      "Enter your experience: 0\n",
      "Enter your Date of Birth: abc\n",
      "Error with the entered format of DOB\n",
      "Please try again\n"
     ]
    }
   ],
   "source": [
    "from datetime import datetime\n",
    "\n",
    "def details_print():\n",
    "    \n",
    "    name = input(\"Enter your name: \")\n",
    "    exp = int(input(\"Enter your experience: \"))\n",
    "    dob = input(\"Enter your Date of Birth: \")\n",
    "    \n",
    "    curr_date = datetime.today()\n",
    "    age = curr_date.year\n",
    "    try: \n",
    "        date_object = datetime.strptime(dob, '%d-%m-%Y').date()\n",
    "        age -= date_object.year\n",
    "        print(\"Your details are:\\n Name: \", name,\"\\n Experience: \", exp, \"\\n Age: \",age)\n",
    "    except Exception as e:\n",
    "        print(\"Error with the entered format of DOB\")\n",
    "        print(\"Please try again\")\n",
    "\n",
    "details_print()"
   ]
  }
 ],
 "metadata": {
  "kernelspec": {
   "display_name": "Python 3 (ipykernel)",
   "language": "python",
   "name": "python3"
  },
  "language_info": {
   "codemirror_mode": {
    "name": "ipython",
    "version": 3
   },
   "file_extension": ".py",
   "mimetype": "text/x-python",
   "name": "python",
   "nbconvert_exporter": "python",
   "pygments_lexer": "ipython3",
   "version": "3.10.9"
  }
 },
 "nbformat": 4,
 "nbformat_minor": 5
}
