{
 "cells": [
  {
   "cell_type": "markdown",
   "id": "3f385d56",
   "metadata": {},
   "source": [
    "<h1> DAY 3 - Refresher Exercise </h1>\n"
   ]
  },
  {
   "cell_type": "markdown",
   "id": "62d62078",
   "metadata": {},
   "source": [
    "1. What is the output of the following?"
   ]
  },
  {
   "cell_type": "markdown",
   "id": "e7a0b1bf",
   "metadata": {},
   "source": [
    "```\n",
    "var1 = 1\n",
    "var2 = 2\n",
    "var3 = \"3\"\n",
    "\n",
    "print(var1 + var2 + var3)\n",
    "```"
   ]
  },
  {
   "cell_type": "markdown",
   "id": "408f5982",
   "metadata": {},
   "source": [
    "<b> Output </b> -> should give an error because as print statement tries to add all the three variables and var3 happens to be a string that cannot be added with the integer type variable"
   ]
  },
  {
   "cell_type": "code",
   "execution_count": 5,
   "id": "745af96e",
   "metadata": {},
   "outputs": [
    {
     "ename": "TypeError",
     "evalue": "unsupported operand type(s) for +: 'int' and 'str'",
     "output_type": "error",
     "traceback": [
      "\u001b[1;31m---------------------------------------------------------------------------\u001b[0m",
      "\u001b[1;31mTypeError\u001b[0m                                 Traceback (most recent call last)",
      "Cell \u001b[1;32mIn[5], line 7\u001b[0m\n\u001b[0;32m      4\u001b[0m var2 \u001b[38;5;241m=\u001b[39m \u001b[38;5;241m2\u001b[39m\n\u001b[0;32m      5\u001b[0m var3 \u001b[38;5;241m=\u001b[39m \u001b[38;5;124m\"\u001b[39m\u001b[38;5;124m3\u001b[39m\u001b[38;5;124m\"\u001b[39m\n\u001b[1;32m----> 7\u001b[0m \u001b[38;5;28mprint\u001b[39m(\u001b[43mvar1\u001b[49m\u001b[43m \u001b[49m\u001b[38;5;241;43m+\u001b[39;49m\u001b[43m \u001b[49m\u001b[43mvar2\u001b[49m\u001b[43m \u001b[49m\u001b[38;5;241;43m+\u001b[39;49m\u001b[43m \u001b[49m\u001b[43mvar3\u001b[49m)\n",
      "\u001b[1;31mTypeError\u001b[0m: unsupported operand type(s) for +: 'int' and 'str'"
     ]
    }
   ],
   "source": [
    "#Verification\n",
    "\n",
    "var1 = 1\n",
    "var2 = 2\n",
    "var3 = \"3\"\n",
    "\n",
    "print(var1 + var2 + var3)\n"
   ]
  },
  {
   "cell_type": "markdown",
   "id": "a1c935d7",
   "metadata": {},
   "source": [
    "2. What is the output of the following code? \n",
    "```\n",
    "valueOne = 5 ** 2\n",
    "valueTwo = 5 ** 3\n",
    "\n",
    "print(valueOne)\n",
    "print(valueTwo)\n",
    "\n",
    "```"
   ]
  },
  {
   "cell_type": "markdown",
   "id": "26358319",
   "metadata": {},
   "source": [
    "<b> Output:  </b>  <br>25 <br>125"
   ]
  },
  {
   "cell_type": "code",
   "execution_count": 6,
   "id": "25d22dfb",
   "metadata": {},
   "outputs": [
    {
     "name": "stdout",
     "output_type": "stream",
     "text": [
      "25\n",
      "125\n"
     ]
    }
   ],
   "source": [
    "#Verification \n",
    "\n",
    "valueOne = 5 ** 2\n",
    "valueTwo = 5 ** 3\n",
    "\n",
    "print(valueOne)\n",
    "print(valueTwo)"
   ]
  },
  {
   "cell_type": "markdown",
   "id": "acd493f8",
   "metadata": {},
   "source": [
    "3. What is the output of the following code? \n",
    "```\n",
    "x = 36 / 4 * (3 +  2) * 4 + 2\n",
    "print(x)\n",
    "\n",
    "```"
   ]
  },
  {
   "cell_type": "markdown",
   "id": "1885d4b4",
   "metadata": {},
   "source": [
    "<b> Output </b> : 182  (following the order of execution)"
   ]
  },
  {
   "cell_type": "code",
   "execution_count": 7,
   "id": "b4577a12",
   "metadata": {},
   "outputs": [
    {
     "name": "stdout",
     "output_type": "stream",
     "text": [
      "182.0\n"
     ]
    }
   ],
   "source": [
    "#Verification \n",
    "\n",
    "x = 36 / 4 * (3 +  2) * 4 + 2\n",
    "print(x)"
   ]
  },
  {
   "cell_type": "markdown",
   "id": "0e6dc177",
   "metadata": {},
   "source": [
    "4. What is the output of the following?\n",
    "\n",
    "```\n",
    "var= \"James Bond\"\n",
    "print(var[2::-1])\n",
    "\n",
    "```"
   ]
  },
  {
   "cell_type": "markdown",
   "id": "bb62f986",
   "metadata": {},
   "source": [
    "<b> Output: </b>  maJ"
   ]
  },
  {
   "cell_type": "code",
   "execution_count": 8,
   "id": "38ffcf49",
   "metadata": {},
   "outputs": [
    {
     "name": "stdout",
     "output_type": "stream",
     "text": [
      "maJ\n"
     ]
    }
   ],
   "source": [
    "#Verification\n",
    "\n",
    "var= \"James Bond\"\n",
    "print(var[2::-1])"
   ]
  },
  {
   "cell_type": "markdown",
   "id": "7f67aa90",
   "metadata": {},
   "source": [
    "5. What is the output of the following?\n",
    "```\n",
    "p, q, r = 10, 20 ,30\n",
    "print(p, q, r)\n",
    "```"
   ]
  },
  {
   "cell_type": "markdown",
   "id": "f77b32b4",
   "metadata": {},
   "source": [
    "<b> Output </b>: 10 20 30 "
   ]
  },
  {
   "cell_type": "code",
   "execution_count": 9,
   "id": "4adf4bc3",
   "metadata": {},
   "outputs": [
    {
     "name": "stdout",
     "output_type": "stream",
     "text": [
      "10 20 30\n"
     ]
    }
   ],
   "source": [
    "#Verification\n",
    "\n",
    "p, q, r = 10, 20 ,30\n",
    "print(p, q, r)"
   ]
  },
  {
   "cell_type": "markdown",
   "id": "b36ba40a",
   "metadata": {},
   "source": [
    "6. What is the output of the following? \n",
    "\n",
    "```\n",
    "str = \"pynative\"\n",
    "print (str[1:3])\n",
    "\n",
    "```"
   ]
  },
  {
   "cell_type": "markdown",
   "id": "f5a4cf6a",
   "metadata": {},
   "source": [
    "<b> Output: </b> yn"
   ]
  },
  {
   "cell_type": "code",
   "execution_count": 10,
   "id": "2fe5647a",
   "metadata": {},
   "outputs": [
    {
     "name": "stdout",
     "output_type": "stream",
     "text": [
      "yn\n"
     ]
    }
   ],
   "source": [
    "#Verification\n",
    "\n",
    "str = \"pynative\"\n",
    "print (str[1:3])"
   ]
  },
  {
   "cell_type": "markdown",
   "id": "1f091191",
   "metadata": {},
   "source": [
    "7. What is the output of the following?\n",
    "```\n",
    "sampleSet = {\"Jodi\", \"Eric\", \"Garry\"}\n",
    "sampleSet.add(1, \"Vicki\")\n",
    "print(sampleSet)\n",
    "\n",
    "```"
   ]
  },
  {
   "cell_type": "markdown",
   "id": "503b985c",
   "metadata": {},
   "source": [
    "<b> Output: </b> Error as .add() function takes only one argument"
   ]
  },
  {
   "cell_type": "code",
   "execution_count": 24,
   "id": "c8d2e83d",
   "metadata": {},
   "outputs": [
    {
     "ename": "TypeError",
     "evalue": "set.add() takes exactly one argument (2 given)",
     "output_type": "error",
     "traceback": [
      "\u001b[1;31m---------------------------------------------------------------------------\u001b[0m",
      "\u001b[1;31mTypeError\u001b[0m                                 Traceback (most recent call last)",
      "Cell \u001b[1;32mIn[24], line 3\u001b[0m\n\u001b[0;32m      1\u001b[0m \u001b[38;5;66;03m#Verification\u001b[39;00m\n\u001b[0;32m      2\u001b[0m sampleSet \u001b[38;5;241m=\u001b[39m {\u001b[38;5;124m\"\u001b[39m\u001b[38;5;124mJodi\u001b[39m\u001b[38;5;124m\"\u001b[39m, \u001b[38;5;124m\"\u001b[39m\u001b[38;5;124mEric\u001b[39m\u001b[38;5;124m\"\u001b[39m, \u001b[38;5;124m\"\u001b[39m\u001b[38;5;124mGarry\u001b[39m\u001b[38;5;124m\"\u001b[39m}\n\u001b[1;32m----> 3\u001b[0m \u001b[43msampleSet\u001b[49m\u001b[38;5;241;43m.\u001b[39;49m\u001b[43madd\u001b[49m\u001b[43m(\u001b[49m\u001b[38;5;241;43m1\u001b[39;49m\u001b[43m,\u001b[49m\u001b[43m \u001b[49m\u001b[38;5;124;43m\"\u001b[39;49m\u001b[38;5;124;43mVicki\u001b[39;49m\u001b[38;5;124;43m\"\u001b[39;49m\u001b[43m)\u001b[49m\n\u001b[0;32m      4\u001b[0m \u001b[38;5;28mprint\u001b[39m(sampleSet)\n",
      "\u001b[1;31mTypeError\u001b[0m: set.add() takes exactly one argument (2 given)"
     ]
    }
   ],
   "source": [
    "#Verification\n",
    "\n",
    "sampleSet = {\"Jodi\", \"Eric\", \"Garry\"}\n",
    "sampleSet.add(1, \"Vicki\")\n",
    "print(sampleSet)"
   ]
  },
  {
   "cell_type": "markdown",
   "id": "de779e98",
   "metadata": {},
   "source": [
    "8. What is the output of the following? \n",
    "```\n",
    "sampleList = [\"Jon\", \"Kelly\", \"Jessa\"]\n",
    "sampleList.append(2, \"Scott\")\n",
    "print(sampleList)\n",
    "```"
   ]
  },
  {
   "cell_type": "markdown",
   "id": "3db7f773",
   "metadata": {},
   "source": [
    "<b> Output: </b> Error as .append() function takes only one argument"
   ]
  },
  {
   "cell_type": "code",
   "execution_count": 23,
   "id": "d3a86b1e",
   "metadata": {},
   "outputs": [
    {
     "ename": "TypeError",
     "evalue": "list.append() takes exactly one argument (2 given)",
     "output_type": "error",
     "traceback": [
      "\u001b[1;31m---------------------------------------------------------------------------\u001b[0m",
      "\u001b[1;31mTypeError\u001b[0m                                 Traceback (most recent call last)",
      "Cell \u001b[1;32mIn[23], line 3\u001b[0m\n\u001b[0;32m      1\u001b[0m \u001b[38;5;66;03m#Verification\u001b[39;00m\n\u001b[0;32m      2\u001b[0m sampleList \u001b[38;5;241m=\u001b[39m [\u001b[38;5;124m\"\u001b[39m\u001b[38;5;124mJon\u001b[39m\u001b[38;5;124m\"\u001b[39m, \u001b[38;5;124m\"\u001b[39m\u001b[38;5;124mKelly\u001b[39m\u001b[38;5;124m\"\u001b[39m, \u001b[38;5;124m\"\u001b[39m\u001b[38;5;124mJessa\u001b[39m\u001b[38;5;124m\"\u001b[39m]\n\u001b[1;32m----> 3\u001b[0m \u001b[43msampleList\u001b[49m\u001b[38;5;241;43m.\u001b[39;49m\u001b[43mappend\u001b[49m\u001b[43m(\u001b[49m\u001b[38;5;241;43m2\u001b[39;49m\u001b[43m,\u001b[49m\u001b[43m \u001b[49m\u001b[38;5;124;43m\"\u001b[39;49m\u001b[38;5;124;43mScott\u001b[39;49m\u001b[38;5;124;43m\"\u001b[39;49m\u001b[43m)\u001b[49m\n\u001b[0;32m      4\u001b[0m \u001b[38;5;28mprint\u001b[39m(sampleList)\n",
      "\u001b[1;31mTypeError\u001b[0m: list.append() takes exactly one argument (2 given)"
     ]
    }
   ],
   "source": [
    "#Verification\n",
    "\n",
    "sampleList = [\"Jon\", \"Kelly\", \"Jessa\"]\n",
    "sampleList.append(2, \"Scott\")\n",
    "print(sampleList)"
   ]
  },
  {
   "cell_type": "markdown",
   "id": "651a1b56",
   "metadata": {},
   "source": [
    "9. What is the output of the following?\n",
    "```\n",
    "var = \"James\" * 2  * 3\n",
    "print(var)\n",
    "\n",
    "```"
   ]
  },
  {
   "cell_type": "markdown",
   "id": "98072e22",
   "metadata": {},
   "source": [
    "<b> Output: </b> JamesJamesJamesJamesJamesJames  (repeated 6 times)"
   ]
  },
  {
   "cell_type": "code",
   "execution_count": 22,
   "id": "b169570d",
   "metadata": {},
   "outputs": [
    {
     "name": "stdout",
     "output_type": "stream",
     "text": [
      "JamesJamesJamesJamesJamesJames\n"
     ]
    }
   ],
   "source": [
    "#Verification\n",
    "\n",
    "var = \"James\" * 2  * 3\n",
    "print(var)"
   ]
  },
  {
   "cell_type": "markdown",
   "id": "68be7ce8",
   "metadata": {},
   "source": [
    "10. What is the output of the following?\n",
    "```\n",
    "listOne = [20, 40, 60, 80]\n",
    "listTwo = [20, 40, 60, 80]\n",
    "\n",
    "print(listOne == listTwo)\n",
    "print(listOne is listTwo)\n",
    "\n",
    "```"
   ]
  },
  {
   "cell_type": "markdown",
   "id": "493557c4",
   "metadata": {},
   "source": [
    "<b> Output:  </b> <br> True (== checks if the values are the same) <br> False (is operator compares the memory location of listOne and listTwo and that is different)"
   ]
  },
  {
   "cell_type": "code",
   "execution_count": 21,
   "id": "83f8f8d7",
   "metadata": {},
   "outputs": [
    {
     "name": "stdout",
     "output_type": "stream",
     "text": [
      "True\n",
      "False\n"
     ]
    }
   ],
   "source": [
    "#Verification\n",
    "\n",
    "listOne = [20, 40, 60, 80]\n",
    "listTwo = [20, 40, 60, 80]\n",
    "\n",
    "print(listOne == listTwo)\n",
    "print(listOne is listTwo)"
   ]
  },
  {
   "cell_type": "markdown",
   "id": "116e1024",
   "metadata": {},
   "source": [
    "11. What is the output of the following? \n",
    "\n",
    "```\n",
    "L = ['a', 'b', 'c', 'd', 'e', 'f', 'g', 'h', 'i']\n",
    "print(L[-7:-2])\n",
    "\n",
    "\n",
    "```"
   ]
  },
  {
   "cell_type": "markdown",
   "id": "185886f9",
   "metadata": {},
   "source": [
    "<b> Output: </b> <br> \n",
    "```\n",
    "['c','d','e','f','g']\n",
    "```"
   ]
  },
  {
   "cell_type": "code",
   "execution_count": 20,
   "id": "2e1aa5f3",
   "metadata": {},
   "outputs": [
    {
     "name": "stdout",
     "output_type": "stream",
     "text": [
      "['c', 'd', 'e', 'f', 'g']\n"
     ]
    }
   ],
   "source": [
    "#Verification\n",
    "\n",
    "L = ['a', 'b', 'c', 'd', 'e', 'f', 'g', 'h', 'i']\n",
    "print(L[-7:-2])"
   ]
  },
  {
   "cell_type": "markdown",
   "id": "de4be611",
   "metadata": {},
   "source": [
    "12. What is the output of the following? \n",
    "\n",
    "```\n",
    "L = ['a', 'b', 'c', 'd', 'e', 'f', 'g', 'h', 'i']\n",
    "print(L[6:1:-2])\n",
    "\n",
    "\n",
    "```"
   ]
  },
  {
   "cell_type": "markdown",
   "id": "b3737df3",
   "metadata": {},
   "source": [
    "<b> Output: </b> <br>\n",
    "```\n",
    "['g','e','c']\n",
    "```"
   ]
  },
  {
   "cell_type": "code",
   "execution_count": 19,
   "id": "882d68cf",
   "metadata": {},
   "outputs": [
    {
     "name": "stdout",
     "output_type": "stream",
     "text": [
      "['g', 'e', 'c']\n"
     ]
    }
   ],
   "source": [
    "#verification\n",
    "\n",
    "L = ['a', 'b', 'c', 'd', 'e', 'f', 'g', 'h', 'i']\n",
    "print(L[6:1:-2])"
   ]
  },
  {
   "cell_type": "markdown",
   "id": "54a33ccd",
   "metadata": {},
   "source": [
    "13. What is the output of the following?\n",
    "```\n",
    "L = ['a', 'b', 'c', 'd', 'e']\n",
    "L[1:2] = [1, 2, 3]\n",
    "print(L)\n",
    "```"
   ]
  },
  {
   "cell_type": "markdown",
   "id": "4fafba1a",
   "metadata": {},
   "source": [
    "<b> Output : </b> <br> \n",
    "```\n",
    "['a', 1, 2, 3, 'e']\n",
    "```"
   ]
  },
  {
   "cell_type": "code",
   "execution_count": 18,
   "id": "0bbde457",
   "metadata": {},
   "outputs": [
    {
     "name": "stdout",
     "output_type": "stream",
     "text": [
      "['a', 1, 2, 3, 'c', 'd', 'e']\n"
     ]
    }
   ],
   "source": [
    "#Verification\n",
    "\n",
    "L = ['a', 'b', 'c', 'd', 'e']\n",
    "L[1:2] = [1, 2, 3]\n",
    "print(L)"
   ]
  }
 ],
 "metadata": {
  "kernelspec": {
   "display_name": "Python 3 (ipykernel)",
   "language": "python",
   "name": "python3"
  },
  "language_info": {
   "codemirror_mode": {
    "name": "ipython",
    "version": 3
   },
   "file_extension": ".py",
   "mimetype": "text/x-python",
   "name": "python",
   "nbconvert_exporter": "python",
   "pygments_lexer": "ipython3",
   "version": "3.10.9"
  }
 },
 "nbformat": 4,
 "nbformat_minor": 5
}
