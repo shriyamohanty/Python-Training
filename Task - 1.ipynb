{
 "cells": [
  {
   "cell_type": "markdown",
   "id": "a1259a8a",
   "metadata": {},
   "source": [
    "<H1> DAY 1 - TASKS </H1>"
   ]
  },
  {
   "cell_type": "markdown",
   "id": "e3c797f8",
   "metadata": {},
   "source": [
    "1. Create 3 integers and perform different operations (Addition, subtraction, multiplication and division)"
   ]
  },
  {
   "cell_type": "code",
   "execution_count": 2,
   "id": "f4547fb2",
   "metadata": {},
   "outputs": [
    {
     "name": "stdout",
     "output_type": "stream",
     "text": [
      "90\n",
      "0\n",
      "24000\n",
      "0.75\n"
     ]
    }
   ],
   "source": [
    "a = 20\n",
    "b = 30 \n",
    "c = 40 \n",
    "\n",
    "print(a+b+c)\n",
    "print((a-b)-(b-c))\n",
    "print(a*b*c)\n",
    "print(b/c)"
   ]
  },
  {
   "cell_type": "markdown",
   "id": "c97c80f8",
   "metadata": {},
   "source": [
    "2. Create a variable of your name, another variable of your age, and another variable about your experience in no of years. Assign it to a tuple. "
   ]
  },
  {
   "cell_type": "code",
   "execution_count": 3,
   "id": "82862be9",
   "metadata": {},
   "outputs": [
    {
     "name": "stdout",
     "output_type": "stream",
     "text": [
      "('Shriya Mohanty', 22, 0.4)\n"
     ]
    }
   ],
   "source": [
    "myname = 'Shriya Mohanty'\n",
    "myage = 22\n",
    "myexp = 0.4\n",
    "\n",
    "result = (myname, myage, myexp)\n",
    "print(result)"
   ]
  },
  {
   "cell_type": "markdown",
   "id": "2303a4eb",
   "metadata": {},
   "source": [
    "3.  1. Create an empty dictionary, a list of countries, a list of respective capitals, a tuple of respective currencies and \n",
    "       a set of length of name of countries\n",
    "    2. Add the created list of countries, a list of respective capitals, a tuple of respective currencies and \n",
    "       a set of  length of name of countries to the empty dictionary"
   ]
  },
  {
   "cell_type": "code",
   "execution_count": 5,
   "id": "3b9d5f14",
   "metadata": {},
   "outputs": [
    {
     "data": {
      "text/plain": [
       "{'Countries': ['UK', 'USA', 'India', 'Mexico'],\n",
       " 'Capital': ['London', 'Washington DC', 'Delhi', 'Mexico City'],\n",
       " 'Currencies': ('Euro', 'Dollar', 'Rupee', 'Pesos'),\n",
       " 'Length of Countries': {2, 3, 5, 6}}"
      ]
     },
     "execution_count": 5,
     "metadata": {},
     "output_type": "execute_result"
    }
   ],
   "source": [
    "final_dict = dict()\n",
    "countries = [\"UK\", \"USA\", \"India\", \"Mexico\"]\n",
    "capital = [\"London\", \"Washington DC\", \"Delhi\", \"Mexico City\"]\n",
    "currencies = (\"Euro\", \"Dollar\", \"Rupee\", \"Pesos\")\n",
    "len_countries_set = {len(countries[0]), len(countries[1]), len(countries[2]), len(countries[3])}\n",
    "\n",
    "final_dict = {\"Countries\" : countries, \"Capital\" : capital, \"Currencies\" : currencies, \"Length of Countries\" : len_countries_set}\n",
    "final_dict"
   ]
  },
  {
   "cell_type": "code",
   "execution_count": null,
   "id": "b3799443",
   "metadata": {},
   "outputs": [],
   "source": []
  }
 ],
 "metadata": {
  "kernelspec": {
   "display_name": "Python 3 (ipykernel)",
   "language": "python",
   "name": "python3"
  },
  "language_info": {
   "codemirror_mode": {
    "name": "ipython",
    "version": 3
   },
   "file_extension": ".py",
   "mimetype": "text/x-python",
   "name": "python",
   "nbconvert_exporter": "python",
   "pygments_lexer": "ipython3",
   "version": "3.10.9"
  }
 },
 "nbformat": 4,
 "nbformat_minor": 5
}
