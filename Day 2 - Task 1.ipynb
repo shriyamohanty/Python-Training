{
 "cells": [
  {
   "cell_type": "markdown",
   "id": "4035bc0d",
   "metadata": {},
   "source": [
    "<H1> DAY 2 - TASK 1 </H1>"
   ]
  },
  {
   "cell_type": "markdown",
   "id": "c6d2df95",
   "metadata": {},
   "source": [
    "<h4> INDEXING </H4>"
   ]
  },
  {
   "cell_type": "markdown",
   "id": "3d272d7a",
   "metadata": {},
   "source": [
    "1. Create a variable\n",
    "\n",
    "\t* An integer type\n",
    "\t* A List of integers\n",
    "\t* A string\n",
    "\t* A List of integer and String\n",
    "\t* A tuple of integers\n",
    "\t* A set of strings\n",
    "\t* A List of strings\n",
    "\n",
    "\n",
    "2. Create a dictionary and include all the above variables as value\n",
    "\tagainst a unique random key\n",
    "\n",
    "3. Try to access the different values and sub values in this dictionary"
   ]
  },
  {
   "cell_type": "code",
   "execution_count": 3,
   "id": "6538c07b",
   "metadata": {},
   "outputs": [],
   "source": [
    "a = 2\n",
    "b = [1,2,3,4,5]\n",
    "c = 'Hello'\n",
    "d = [10,20,'Arithmetic']\n",
    "e = (99,88,77)\n",
    "f = {'Apple', 'Banana', 'Orange'}\n",
    "g = ['Alpha', 'Beta', 'Gamma', 'Lambda']"
   ]
  },
  {
   "cell_type": "code",
   "execution_count": 4,
   "id": "13c0c20d",
   "metadata": {},
   "outputs": [
    {
     "data": {
      "text/plain": [
       "{'First': 2,\n",
       " 'Second': [1, 2, 3, 4, 5],\n",
       " 'Third': 'Hello',\n",
       " 'Fourth': [10, 20, 'Arithmetic'],\n",
       " 'Fifth': (99, 88, 77),\n",
       " 'Sixth': {'Apple', 'Banana', 'Orange'},\n",
       " 'Seventh': ['Alpha', 'Beta', 'Gamma', 'Lambda']}"
      ]
     },
     "execution_count": 4,
     "metadata": {},
     "output_type": "execute_result"
    }
   ],
   "source": [
    "result_dict = dict()\n",
    "result_dict = {'First' : a, 'Second' : b, 'Third' : c, 'Fourth' : d, 'Fifth' : e, 'Sixth' : f, 'Seventh' : g}\n",
    "result_dict"
   ]
  },
  {
   "cell_type": "code",
   "execution_count": 7,
   "id": "d2b6ae04",
   "metadata": {},
   "outputs": [
    {
     "name": "stdout",
     "output_type": "stream",
     "text": [
      "2\n",
      "3\n",
      "Hello\n",
      "20\n",
      "99\n",
      "{'Orange', 'Banana', 'Apple'}\n",
      "Beta\n"
     ]
    }
   ],
   "source": [
    "print(result_dict['First'])\n",
    "print(result_dict['Second'][2])\n",
    "print(result_dict['Third'])\n",
    "print(result_dict['Fourth'][1])\n",
    "print(result_dict['Fifth'][0])\n",
    "print(result_dict['Sixth']) #can't access separate values in set as it is an unordered collection and indexing not possible\n",
    "print(result_dict['Seventh'][1])"
   ]
  },
  {
   "cell_type": "code",
   "execution_count": 10,
   "id": "9f5bb428",
   "metadata": {},
   "outputs": [],
   "source": [
    "my_dictionary = {'key1' : {'subkey1' : [23, 24, 25], 'subkey2' : [20, 24, 29], 'subkey3' : [25, 28, 35]},\n",
    "                     'key2' : {'subkey1' : [-23, -24, -25], 'subkey2' : [-20, -24, -29]},\n",
    "                     'key3' : [('Ravi', 'Mahesh', 'Mary', 'Johnson'), ([(23, 39), (45, 90)], ('Doctor', 'Engineer'))]}"
   ]
  },
  {
   "cell_type": "markdown",
   "id": "26d7047b",
   "metadata": {},
   "source": [
    "a. Find the subkey in key1 of my dictionary with maximum average"
   ]
  },
  {
   "cell_type": "code",
   "execution_count": 17,
   "id": "514ab121",
   "metadata": {},
   "outputs": [
    {
     "name": "stdout",
     "output_type": "stream",
     "text": [
      "29.333333333333332\n"
     ]
    }
   ],
   "source": [
    "avg = 0\n",
    "for key in my_dictionary['key1']:\n",
    "    new_avg = sum(my_dictionary['key1'][key])/len(my_dictionary['key1'][key])\n",
    "    if avg < new_avg: \n",
    "        avg = new_avg\n",
    "print(avg)  "
   ]
  },
  {
   "cell_type": "markdown",
   "id": "12aed2fb",
   "metadata": {},
   "source": [
    "b. Find the sum of subkey2 in key2 of my dictionary"
   ]
  },
  {
   "cell_type": "code",
   "execution_count": 18,
   "id": "f5849357",
   "metadata": {},
   "outputs": [
    {
     "name": "stdout",
     "output_type": "stream",
     "text": [
      "73\n"
     ]
    }
   ],
   "source": [
    "print(sum(my_dictionary['key1']['subkey2']))"
   ]
  },
  {
   "cell_type": "markdown",
   "id": "3b90280b",
   "metadata": {},
   "source": [
    "c. Access the last character of last name of first element of key3 - 'n'"
   ]
  },
  {
   "cell_type": "code",
   "execution_count": 21,
   "id": "d400e367",
   "metadata": {},
   "outputs": [
    {
     "name": "stdout",
     "output_type": "stream",
     "text": [
      "n\n"
     ]
    }
   ],
   "source": [
    "print(my_dictionary['key3'][0][3][-1])"
   ]
  },
  {
   "cell_type": "markdown",
   "id": "6ec38ff6",
   "metadata": {},
   "source": [
    "d. Access the last element of first element of second element of key3 - (45, 90)"
   ]
  },
  {
   "cell_type": "code",
   "execution_count": 26,
   "id": "a9bab48b",
   "metadata": {},
   "outputs": [
    {
     "name": "stdout",
     "output_type": "stream",
     "text": [
      "(45, 90)\n"
     ]
    }
   ],
   "source": [
    "print(my_dictionary['key3'][1][0][1])"
   ]
  },
  {
   "cell_type": "markdown",
   "id": "a8dafaa6",
   "metadata": {},
   "source": [
    "e. Access the fourth letter of \"Engineer\" - \"n\""
   ]
  },
  {
   "cell_type": "code",
   "execution_count": 31,
   "id": "65cec32d",
   "metadata": {},
   "outputs": [
    {
     "name": "stdout",
     "output_type": "stream",
     "text": [
      "n\n"
     ]
    }
   ],
   "source": [
    "print(my_dictionary['key3'][1][1][1][-4])"
   ]
  },
  {
   "cell_type": "markdown",
   "id": "00998d7e",
   "metadata": {},
   "source": [
    "<H4> SLICING </H4>"
   ]
  },
  {
   "cell_type": "markdown",
   "id": "5f6f5723",
   "metadata": {},
   "source": [
    "1. Check whether reversing works on tuples."
   ]
  },
  {
   "cell_type": "code",
   "execution_count": 35,
   "id": "0e21a769",
   "metadata": {},
   "outputs": [
    {
     "data": {
      "text/plain": [
       "(5, 4, 3, 2, 1)"
      ]
     },
     "execution_count": 35,
     "metadata": {},
     "output_type": "execute_result"
    }
   ],
   "source": [
    "tup = (1,2,3,4,5)\n",
    "tup[::-1]"
   ]
  },
  {
   "cell_type": "markdown",
   "id": "7fd952f0",
   "metadata": {},
   "source": [
    "2. Create a list of top 50 numbers, Try accessing the last 10 numbers using negativ index\n",
    "    List the odd numbers from the list"
   ]
  },
  {
   "cell_type": "code",
   "execution_count": 51,
   "id": "1247f131",
   "metadata": {},
   "outputs": [
    {
     "name": "stdout",
     "output_type": "stream",
     "text": [
      "[41, 42, 43, 44, 45, 46, 47, 48, 49, 50]\n",
      "[41, 43, 45, 47, 49]\n"
     ]
    }
   ],
   "source": [
    "list1 = list(range(51))\n",
    "last_10 = list1[-10:]\n",
    "print(last_10)\n",
    "\n",
    "print(last_10[::2])"
   ]
  }
 ],
 "metadata": {
  "kernelspec": {
   "display_name": "Python 3 (ipykernel)",
   "language": "python",
   "name": "python3"
  },
  "language_info": {
   "codemirror_mode": {
    "name": "ipython",
    "version": 3
   },
   "file_extension": ".py",
   "mimetype": "text/x-python",
   "name": "python",
   "nbconvert_exporter": "python",
   "pygments_lexer": "ipython3",
   "version": "3.10.9"
  }
 },
 "nbformat": 4,
 "nbformat_minor": 5
}
