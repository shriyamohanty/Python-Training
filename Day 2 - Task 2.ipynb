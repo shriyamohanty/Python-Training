{
 "cells": [
  {
   "cell_type": "markdown",
   "id": "5aae60e2",
   "metadata": {},
   "source": [
    "<H1> DAY 2 - TASK 2 </H1>"
   ]
  },
  {
   "cell_type": "markdown",
   "id": "3d995296",
   "metadata": {},
   "source": [
    "<H4> CONDITIONAL AND ITERATION </H4>"
   ]
  },
  {
   "cell_type": "markdown",
   "id": "0dbdaeac",
   "metadata": {},
   "source": [
    "Given two list of numbers and another list of operations, perform the operation on the list of numbers as per the operation\n"
   ]
  },
  {
   "cell_type": "code",
   "execution_count": 22,
   "id": "1c1892a1",
   "metadata": {},
   "outputs": [],
   "source": [
    "list1 = [1, 4, -9, -5.2, 8.5, 10]\n",
    "list2 = [10, 5, -3, 2, 0.5, 1.3]\n",
    "list3 = ['+', '*', '-', '*', '/', '+']\n",
    "\n",
    "\n",
    "#output_list = [1+10, 4*5, -9 - (-3), ....]\n",
    "#output_list = [11, 20, -6, ...]"
   ]
  },
  {
   "cell_type": "code",
   "execution_count": 36,
   "id": "261daddd",
   "metadata": {},
   "outputs": [
    {
     "ename": "SyntaxError",
     "evalue": "invalid syntax (164553689.py, line 6)",
     "output_type": "error",
     "traceback": [
      "\u001b[1;36m  Cell \u001b[1;32mIn[36], line 6\u001b[1;36m\u001b[0m\n\u001b[1;33m    for index2, value in enumerate(list3):\u001b[0m\n\u001b[1;37m    ^\u001b[0m\n\u001b[1;31mSyntaxError\u001b[0m\u001b[1;31m:\u001b[0m invalid syntax\n"
     ]
    }
   ],
   "source": [
    "result_list = []\n",
    "\n",
    "\n",
    "\n",
    "for index, (l1,l2) in enumerate(zip(list1, list2)):\\\n",
    "    for index2, value in enumerate(list3):\n",
    "        if index = index2: \n",
    "            if value == '+':\n",
    "                result_list.append(l1+l2)\n",
    "            if value == '-':\n",
    "                result_list.append(l1-l2)\n",
    "            if value == '*':\n",
    "                result_list.append(l1*l2)\n",
    "            if value == '/':\n",
    "                result_list.append(l1/l2)\n",
    "\n",
    "result_list\n",
    "\n",
    "\n",
    "    "
   ]
  },
  {
   "cell_type": "markdown",
   "id": "b52395d1",
   "metadata": {},
   "source": [
    "1. Create a list of 10 employees\n",
    "2. Create tuple of salaries of these 10 employees\n",
    "3. Create a tuple of rating of these 10 employees ( 0 - 10 )\n",
    "4. Generate a dictionary of employees and their new salaries based on their ratings \n",
    "    The update to salaries should be as \n",
    "    \n",
    "    a. For rating 0 - 3 no salaries should be updated\n",
    "    \n",
    "    b. For rating 3 - 5 a 3% increment to be given\n",
    "    \n",
    "    c. For rating 5 - 7 a 5% increment to be given\n",
    "    \n",
    "    d. For rating 7 - 9 a 7% increment to be given\n",
    "    \n",
    "    e. For rating 9 and above a 7% increment and a bonus of 10% of initial salary to be given"
   ]
  },
  {
   "cell_type": "code",
   "execution_count": 20,
   "id": "489a0365",
   "metadata": {},
   "outputs": [
    {
     "data": {
      "text/plain": [
       "{'Rajesh': 21630.0,\n",
       " 'Abhijit': 42800.0,\n",
       " 'Sweta': 56175.0,\n",
       " 'Sanjana': 27037.5,\n",
       " 'Kirti': 105000.0,\n",
       " 'Mohammad': 40950.0,\n",
       " 'Purnima': 87633.0,\n",
       " 'Alia': 80000,\n",
       " 'Raj': 206000.0,\n",
       " 'Rahul': 309000.0}"
      ]
     },
     "execution_count": 20,
     "metadata": {},
     "output_type": "execute_result"
    }
   ],
   "source": [
    "list_employees = ['Rajesh', 'Abhijit', 'Sweta', 'Sanjana', 'Kirti', 'Mohammad', 'Purnima', 'Alia', 'Raj', 'Rahul']\n",
    "tup_salaries = (20000, 40000, 50000, 25000, 100000, 35000, 70000, 80000, 200000, 300000)\n",
    "tup_rating = (5, 8, 7, 5, 6, 10, 9, 1, 3, 4)\n",
    "\n",
    "result_dict = dict()\n",
    "\n",
    "list_salaries = list(tup_salaries)\n",
    "list_rating = list(tup_rating)\n",
    "\n",
    "for name, salary in zip(list_employees, list_salaries):\n",
    "    result_dict[name] = salary\n",
    "\n",
    "for key, values in result_dict.items():\n",
    "    for name, rating in zip(list_employees, list_rating): \n",
    "        if rating >= 3 and rating <= 5 and key == name: \n",
    "            result_dict[key] += 0.03 * result_dict[key]\n",
    "        if rating >= 5 and rating <= 7 and key == name: \n",
    "            result_dict[key] += 0.05 * result_dict[key]\n",
    "        if rating >= 7 and rating <= 9 and key == name: \n",
    "            result_dict[key] += 0.07 * result_dict[key]\n",
    "        if rating >= 9 and key == name: \n",
    "            result_dict[key] += 0.07 * result_dict[key] + 0.1* result_dict[key]\n",
    "            \n",
    "result_dict\n",
    "\n",
    "    "
   ]
  }
 ],
 "metadata": {
  "kernelspec": {
   "display_name": "Python 3 (ipykernel)",
   "language": "python",
   "name": "python3"
  },
  "language_info": {
   "codemirror_mode": {
    "name": "ipython",
    "version": 3
   },
   "file_extension": ".py",
   "mimetype": "text/x-python",
   "name": "python",
   "nbconvert_exporter": "python",
   "pygments_lexer": "ipython3",
   "version": "3.10.9"
  }
 },
 "nbformat": 4,
 "nbformat_minor": 5
}
