{
 "cells": [
  {
   "cell_type": "markdown",
   "id": "6291bfad",
   "metadata": {},
   "source": [
    "<h1> DAY 2 - TASK 3 </h1>"
   ]
  },
  {
   "cell_type": "markdown",
   "id": "4d429323",
   "metadata": {},
   "source": [
    "<h4> FUNCTIONS </H4>"
   ]
  },
  {
   "cell_type": "markdown",
   "id": "5f19d887",
   "metadata": {},
   "source": [
    "1. Can you write a function which takes in two words and prints the concatenation of strings. For example string1 = 'foo' and string2 ='bar' as arguments and it should print 'foobar' while calling the function"
   ]
  },
  {
   "cell_type": "code",
   "execution_count": 2,
   "id": "a1aeaf9c",
   "metadata": {},
   "outputs": [
    {
     "name": "stdout",
     "output_type": "stream",
     "text": [
      "Concatenated String is:  foobar\n"
     ]
    }
   ],
   "source": [
    "def concat_strings(str1, str2):\n",
    "    result = str1+str2\n",
    "    print(\"Concatenated String is: \", result)\n",
    "    \n",
    "concat_strings('foo','bar')"
   ]
  },
  {
   "cell_type": "markdown",
   "id": "b40d3ea8",
   "metadata": {},
   "source": [
    "2. Can you write a function which takes in two words and prints the concatenation of strings with space in between. For example string1 = 'foo' and string2 ='bar' as arguments and it should print 'foo bar' while calling the function"
   ]
  },
  {
   "cell_type": "code",
   "execution_count": 3,
   "id": "0cfd1ea6",
   "metadata": {},
   "outputs": [
    {
     "name": "stdout",
     "output_type": "stream",
     "text": [
      "Concatenated String with space:  foo bar\n"
     ]
    }
   ],
   "source": [
    "def concat_strings_space(str1, str2):\n",
    "    result = str1 + \" \" +str2\n",
    "    print(\"Concatenated String with space: \",result)\n",
    "\n",
    "concat_strings_space('foo', 'bar')"
   ]
  },
  {
   "cell_type": "markdown",
   "id": "1860e04c",
   "metadata": {},
   "source": [
    "3. Can you write a function which takes in two words and prints the difference of length of first string and second string For example string1 = 'foo' and string2 ='bar' as arguments and it should print 0 (both have 3 characters and difference is 0) while calling the function\n"
   ]
  },
  {
   "cell_type": "code",
   "execution_count": 4,
   "id": "101bf0a4",
   "metadata": {},
   "outputs": [
    {
     "name": "stdout",
     "output_type": "stream",
     "text": [
      "Difference in string length is:  0\n"
     ]
    }
   ],
   "source": [
    "def diff_len_string(str1, str2):\n",
    "    result = len(str1) - len(str2)\n",
    "    print(\"Difference in string length is: \",result)\n",
    "\n",
    "diff_len_string('foo', 'bar')"
   ]
  },
  {
   "cell_type": "markdown",
   "id": "4e1c966b",
   "metadata": {},
   "source": [
    "4. Can you write a function which takes in two numbers and operation as the third argument to be performed on the two numbers. Print the operation performed on two numbers. Please take care of zero division. For example number1 = 2, number2 = 100 operation = 'add' then output should be 102"
   ]
  },
  {
   "cell_type": "code",
   "execution_count": 5,
   "id": "e27d5b21",
   "metadata": {},
   "outputs": [
    {
     "name": "stdout",
     "output_type": "stream",
     "text": [
      "Difference is:  -1\n"
     ]
    }
   ],
   "source": [
    "def operation(num1, num2, op):\n",
    "    if op == 'add':\n",
    "        print(\"Addition is: \", num1+num2)\n",
    "    if op == 'subtract':\n",
    "        print(\"Difference is: \", num1-num2)\n",
    "    if op == 'multiply':\n",
    "        print(\"Multiplication is: \",  num1*num2)\n",
    "    if op == 'divide':\n",
    "        print(\"Divison is: \", num1/num2)\n",
    "\n",
    "operation(8,9,'subtract')"
   ]
  },
  {
   "cell_type": "markdown",
   "id": "bc73c865",
   "metadata": {},
   "source": [
    "5. Write a function which takes your first name, last name, age and qualification as arguments and prints out your full name with age and qualification. But while you call this function your first and last name would be passed as positional arguments, your age as a keyword argument and qualification will be having a default value of \"Bachelors\""
   ]
  },
  {
   "cell_type": "code",
   "execution_count": 12,
   "id": "49b40dad",
   "metadata": {},
   "outputs": [
    {
     "name": "stdout",
     "output_type": "stream",
     "text": [
      "Full Name:  Shriya   Mohanty \n",
      " Age:  22 \n",
      " Qualification:  Bachelors\n"
     ]
    }
   ],
   "source": [
    "def details(age, fname, lname, qual='Bachelors'):\n",
    "    print(\"Full Name: \",fname, \" \", lname,'\\n',\"Age: \",age,'\\n',\"Qualification: \",qual)\n",
    "\n",
    "details(22, fname = 'Shriya', lname = 'Mohanty')"
   ]
  },
  {
   "cell_type": "markdown",
   "id": "a2d5a653",
   "metadata": {},
   "source": [
    "6. Write function that takes in 4 list of strings and returns 4 list of length of maximum string\n",
    "\n",
    "Example : list1 = ['book', 'man', 'woman']\n",
    "          list2 = ['character', 'python', 'location', 'green']\n",
    "          list3 = ['python', 'mumbai', 'melbourne']\n",
    "          list4 = ['parliament', 'sport', 'ecommerce']\n",
    "          \n",
    "func1(list1, list2, list3, list4) ->  [5, 9, 9, 10]\n",
    "\n",
    "Once you get the list call another function which normalizes the list.\n",
    "\n",
    "Example : list1 = [5, 9, 9, 10]\n",
    "\n",
    "func2(list1) -> [5/33, 9/33, 9/33, 10/33]"
   ]
  },
  {
   "cell_type": "code",
   "execution_count": 13,
   "id": "1880c931",
   "metadata": {},
   "outputs": [],
   "source": [
    "list1 = ['book', 'man', 'woman']\n",
    "list2 = ['character', 'python', 'location', 'green']\n",
    "list3 = ['python', 'mumbai', 'melbourne']\n",
    "list4 = ['parliament', 'sport', 'ecommerce']"
   ]
  },
  {
   "cell_type": "code",
   "execution_count": 21,
   "id": "e028d935",
   "metadata": {},
   "outputs": [
    {
     "name": "stdout",
     "output_type": "stream",
     "text": [
      "[0.15151515151515152, 0.2727272727272727, 0.2727272727272727, 0.30303030303030304]\n"
     ]
    }
   ],
   "source": [
    "def max_len_normalize(l1, l2, l3, l4):\n",
    "    final_list = []\n",
    "    final_list.append(l1)\n",
    "    final_list.append(l2)\n",
    "    final_list.append(l3)\n",
    "    final_list.append(l4)\n",
    "    \n",
    "    res_list = []\n",
    "    max = 0\n",
    "    \n",
    "    for x in range(len(final_list)):\n",
    "        for y in range(len(final_list[x])):\n",
    "            if len(final_list[x][y]) > max: \n",
    "                max = len(final_list[x][y]) \n",
    "        res_list.append(max)\n",
    "        \n",
    "        def normalize(final_list):\n",
    "            sum = 0\n",
    "            for x in range(len(final_list)):\n",
    "                sum += final_list[x]\n",
    "            \n",
    "            for y in range(len(final_list)):\n",
    "                final_list[y] /= sum\n",
    "            \n",
    "            return final_list\n",
    "    \n",
    "    return(normalize(res_list))\n",
    "\n",
    "solution = max_len_normalize(l1 = ['book', 'man', 'woman'],\n",
    "l2 = ['character', 'python', 'location', 'green'],\n",
    "l3 = ['python', 'mumbai', 'melbourne'],\n",
    "l4 = ['parliament', 'sport', 'ecommerce'],)\n",
    "\n",
    "print(solution)"
   ]
  },
  {
   "attachments": {},
   "cell_type": "markdown",
   "id": "cf0c7810",
   "metadata": {},
   "source": [
    "7. Write a function which takes in a value 5(arbitrary) and prints you the output like this"
   ]
  },
  {
   "cell_type": "raw",
   "id": "2374869b",
   "metadata": {},
   "source": [
    "*\n",
    "**\n",
    "***\n",
    "****\n",
    "*****"
   ]
  },
  {
   "cell_type": "code",
   "execution_count": 24,
   "id": "672e1d9a",
   "metadata": {},
   "outputs": [
    {
     "name": "stdout",
     "output_type": "stream",
     "text": [
      "*\n",
      "**\n",
      "***\n",
      "****\n",
      "*****\n"
     ]
    }
   ],
   "source": [
    "def printpattern(value):\n",
    "    for x in range(value):\n",
    "        x = x+1\n",
    "        print('*'*x)\n",
    "\n",
    "printpattern(5)"
   ]
  },
  {
   "attachments": {},
   "cell_type": "markdown",
   "id": "e22c15d6",
   "metadata": {},
   "source": [
    "8. Write a function which takes in a value 5(arbitrary) and prints you the output like this"
   ]
  },
  {
   "cell_type": "raw",
   "id": "827502cd",
   "metadata": {},
   "source": [
    "    *\n",
    "   * *\n",
    "  *   *\n",
    " *     *\n",
    "* * * * *"
   ]
  },
  {
   "cell_type": "code",
   "execution_count": 41,
   "id": "4755c0c7",
   "metadata": {},
   "outputs": [
    {
     "name": "stdout",
     "output_type": "stream",
     "text": [
      "     * \n",
      "    * *\n",
      "   *   *\n",
      "  *     *\n",
      " *       *\n",
      "* * * * * * \n"
     ]
    }
   ],
   "source": [
    "def printpattern(value):\n",
    "    for i in range(1, value+1):\n",
    "        for j in range(value-i):\n",
    "            print(\" \", end = \"\")\n",
    "        if i == 1:\n",
    "            print(\"* \"*i)\n",
    "        elif i == value: \n",
    "            print(\"* \"*value)\n",
    "        else: \n",
    "            print(\"*\", end= \"\")\n",
    "            for j in range(2* i -3):\n",
    "                print(\" \", end=\"\")\n",
    "            print(\"*\")\n",
    "\n",
    "printpattern(6)"
   ]
  },
  {
   "attachments": {},
   "cell_type": "markdown",
   "id": "18316645",
   "metadata": {},
   "source": [
    "9. Write a function which takes in a value 5(arbitrary) and prints you the output like this "
   ]
  },
  {
   "cell_type": "raw",
   "id": "673b3e15",
   "metadata": {},
   "source": [
    "    *\n",
    "   ***\n",
    "  *****\n",
    " *******\n",
    "*********"
   ]
  },
  {
   "cell_type": "code",
   "execution_count": 46,
   "id": "8eab08a4",
   "metadata": {},
   "outputs": [
    {
     "name": "stdout",
     "output_type": "stream",
     "text": [
      "         *\n",
      "        ***\n",
      "       *****\n",
      "      *******\n",
      "     *********\n",
      "    ***********\n",
      "   *************\n",
      "  ***************\n",
      " *****************\n",
      "*******************\n"
     ]
    }
   ],
   "source": [
    "def printpattern(value):\n",
    "    for i in range(1, value+1):\n",
    "        print(\" \" * (value - i) + \"*\" * (2 * i - 1) )\n",
    "            \n",
    "printpattern(10)"
   ]
  },
  {
   "attachments": {},
   "cell_type": "markdown",
   "id": "74b30d86",
   "metadata": {},
   "source": [
    "10. Write a function which takes in a value 5(arbitrary) and prints you the output like this"
   ]
  },
  {
   "cell_type": "raw",
   "id": "ca1e7610",
   "metadata": {},
   "source": [
    "* * * * *\n",
    "*       *\n",
    "*       *\n",
    "*       *\n",
    "* * * * *"
   ]
  },
  {
   "cell_type": "code",
   "execution_count": 73,
   "id": "2e4bc39e",
   "metadata": {},
   "outputs": [
    {
     "name": "stdout",
     "output_type": "stream",
     "text": [
      "* * * * * * * * * * * * \n",
      "*                     *\n",
      "*                     *\n",
      "*                     *\n",
      "*                     *\n",
      "*                     *\n",
      "*                     *\n",
      "*                     *\n",
      "*                     *\n",
      "*                     *\n",
      "*                     *\n",
      "* * * * * * * * * * * * \n"
     ]
    }
   ],
   "source": [
    "def printpattern(value):\n",
    "    for i in range(value):\n",
    "        if i == 0 or i == (value-1): \n",
    "            print(\"* \"*value)\n",
    "        else: \n",
    "            print('*', ' '*(2*value - 5), '*')\n",
    "\n",
    "printpattern(12)"
   ]
  },
  {
   "cell_type": "markdown",
   "id": "7d7ec605",
   "metadata": {},
   "source": [
    "11. Write a function which can return the even number of letters of the text which is given as an argument. Write a second functions which takes in the return value of the first function and converts the letters to uppercase and gives the count of letters in return \n",
    "\n",
    "For example : \n",
    "\n",
    "Text : 'I am learning python at simplilearn'\n",
    "\n",
    "First function will take this text as argument and return \n",
    "\n",
    "['I', 'm', 'e', 'r', 'i', 'g', ........]\n",
    "\n",
    "\n",
    "The second function will take this list as argument and return\n",
    "\n",
    "['I' : 2 , 'M' : 1, 'E' : 1, 'R' : 1 , 'G' : 1.......]"
   ]
  },
  {
   "cell_type": "code",
   "execution_count": 11,
   "id": "50b06db8",
   "metadata": {},
   "outputs": [
    {
     "data": {
      "text/plain": [
       "{'I': 4,\n",
       " 'M': 1,\n",
       " 'E': 2,\n",
       " 'R': 2,\n",
       " 'G': 1,\n",
       " 'Y': 1,\n",
       " 'H': 1,\n",
       " 'N': 1,\n",
       " 'T': 1,\n",
       " 'P': 1}"
      ]
     },
     "execution_count": 11,
     "metadata": {},
     "output_type": "execute_result"
    }
   ],
   "source": [
    "def return_even_letter(str1):\n",
    "    \n",
    "    list1=[]\n",
    "    even_list = []\n",
    "    for x in range(len(str1)):\n",
    "        if str1[x] != ' ':\n",
    "            list1.append(str1[x])\n",
    "    \n",
    "    for y in range(len(list1)):\n",
    "        if y%2 == 0:\n",
    "            even_list.append(list1[y])\n",
    "        \n",
    "    return even_list\n",
    "\n",
    "def count_even_letter(evenlist):\n",
    "    \n",
    "    newlist = []\n",
    "    resdict = dict()\n",
    "    \n",
    "    for a in range(len(evenlist)):\n",
    "        newlist.append(evenlist[a].upper())\n",
    "        \n",
    "    for b in range(len(newlist)):\n",
    "        resdict[newlist[b]] = newlist.count(newlist[b])\n",
    "    \n",
    "    return resdict\n",
    "    \n",
    "    \n",
    "listy = return_even_letter('I am learning python at simplilearn')\n",
    "listy2 = count_even_letter(listy)\n",
    "\n",
    "listy2\n"
   ]
  }
 ],
 "metadata": {
  "kernelspec": {
   "display_name": "Python 3 (ipykernel)",
   "language": "python",
   "name": "python3"
  },
  "language_info": {
   "codemirror_mode": {
    "name": "ipython",
    "version": 3
   },
   "file_extension": ".py",
   "mimetype": "text/x-python",
   "name": "python",
   "nbconvert_exporter": "python",
   "pygments_lexer": "ipython3",
   "version": "3.10.9"
  }
 },
 "nbformat": 4,
 "nbformat_minor": 5
}
